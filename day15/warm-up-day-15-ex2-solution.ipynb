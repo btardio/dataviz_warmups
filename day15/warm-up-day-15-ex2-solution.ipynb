{
 "cells": [
  {
   "cell_type": "code",
   "execution_count": 17,
   "metadata": {},
   "outputs": [
    {
     "name": "stdout",
     "output_type": "stream",
     "text": [
      "code 200\n",
      "\n",
      "json \n",
      "[{\"parts\": [{\"name\": \"John\", \"surname\": \"Doe\", \"email\": \"morgenroth@grunecker.de\", \"type\": \"APPLICANT\", \"companyName\": null}], \"patents\": [{\"number\": \"EP2940325\", \"description\": \"MOVEMENT-GUIDING DEVICE\"}], \"creationDate\": 1546422481220, \"number\": \"1\", \"fullNumber\": \"UPC_APP_1/2019\", \"type\": \"OPT_OUT\", \"year\": 2019}, {\"parts\": [{\"name\": \"John\", \"surname\": \"Doe\", \"email\": \"morgenroth@grunecker.de\", \"type\": \"APPLICANT\", \"companyName\": null}], \"patents\": [{\"number\": \"EP3354430\", \"description\": \"OSB PLATE MATERIAL AND METHOD FOR PRODUCING AN OSB PLATE MATERIAL\"}], \"creationDate\": 1546421085417, \"number\": \"2\", \"fullNumber\": \"UPC_APP_2/2019\", \"type\": \"OPT_OUT\", \"year\": 2019}, {\"parts\": [{\"name\": \"Andreas\", \"surname\": \"Killinger\", \"email\": \"andreas.killinger@siltronic.com\", \"type\": \"APPLICANT\", \"companyName\": null}], \"patents\": [], \"creationDate\": 1547159550399, \"number\": \"3\", \"fullNumber\": \"UPC_APP_3/2019\", \"type\": \"EPA_REPRESENTATIVE\", \"year\": 2019}]\n"
     ]
    }
   ],
   "source": [
    "\n",
    "import  requests\n",
    "import json\n",
    "import imp\n",
    "import settings\n",
    "\n",
    "url = 'https://netservice-prod.apigee.net/upc/public/api/v2/cases'\n",
    "\n",
    "params = {\n",
    "    'year': '2019',\n",
    "}\n",
    "\n",
    "r = requests.get(url, params = params, headers = {'X-API-KEY' : settings.upc_key})\n",
    "\n",
    "print(\"code {}\\n\".format(r.status_code))\n",
    "\n",
    "print(\"json \\n\" + json.dumps(r.json()))\n"
   ]
  },
  {
   "cell_type": "code",
   "execution_count": null,
   "metadata": {},
   "outputs": [],
   "source": []
  }
 ],
 "metadata": {
  "kernelspec": {
   "display_name": "Python 3",
   "language": "python",
   "name": "python3"
  },
  "language_info": {
   "codemirror_mode": {
    "name": "ipython",
    "version": 3
   },
   "file_extension": ".py",
   "mimetype": "text/x-python",
   "name": "python",
   "nbconvert_exporter": "python",
   "pygments_lexer": "ipython3",
   "version": "3.6.6"
  }
 },
 "nbformat": 4,
 "nbformat_minor": 2
}
