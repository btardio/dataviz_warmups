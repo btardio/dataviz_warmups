{
 "cells": [
  {
   "cell_type": "code",
   "execution_count": 16,
   "metadata": {},
   "outputs": [
    {
     "name": "stdout",
     "output_type": "stream",
     "text": [
      "16 different languages.\n",
      "\n",
      "Languages:\n",
      "Python\n",
      "Ruby\n",
      "HTML\n",
      "C/C++ Header\n",
      "PHP\n",
      "Certificate\n",
      "MARKDOWN\n",
      "m4\n",
      "Portable Object\n",
      "Bourne Again Shell\n",
      "make\n",
      "Javascript\n",
      "ASP.Net\n",
      "Windows Resource File\n",
      "Bourne Shell\n",
      "Ada\n"
     ]
    }
   ],
   "source": [
    "import requests\n",
    "\n",
    "# parameters for the url\n",
    "query = '%28%29' # query\n",
    "p = 0 # page\n",
    "\n",
    "# language dict, since all keys are unique\n",
    "# we can use dictionaries for tallying unique\n",
    "# items\n",
    "languagedict = {}\n",
    "\n",
    "# so as to ensure that we do not create\n",
    "# an infinite loop, and since we are using\n",
    "# the responses' nextpage variable, we can\n",
    "# add a counter even though it is gauranteed\n",
    "# that next page with be +1, you never know\n",
    "counter = 0\n",
    "\n",
    "# keep making requests while p is less than 5 and counter is less than 5\n",
    "while p < 5 and counter < 5:\n",
    "\n",
    "    # create the url for the request\n",
    "    url = 'https://searchcode.com/api/codesearch_I/?q=%s&p=%s' % (query, p)\n",
    "\n",
    "    # make the get request\n",
    "    resp = requests.get(url)\n",
    "\n",
    "    # iterate through the results\n",
    "    for result in resp.json()['results']:\n",
    "        # set the key to the language name and the value to None\n",
    "        languagedict[result['language']] = None\n",
    "    \n",
    "    # some API's have a next page parameter, in this case use it\n",
    "    p = int(resp.json()['nextpage'])\n",
    "\n",
    "    # increment the counter\n",
    "    counter += 1\n",
    "    \n",
    "# print results\n",
    "print(str(len(languagedict.keys())) + ' different languages.\\n')\n",
    "print('Languages:')\n",
    "print('\\n'.join(languagedict.keys()))"
   ]
  },
  {
   "cell_type": "code",
   "execution_count": null,
   "metadata": {},
   "outputs": [],
   "source": []
  }
 ],
 "metadata": {
  "kernelspec": {
   "display_name": "Python 3",
   "language": "python",
   "name": "python3"
  },
  "language_info": {
   "codemirror_mode": {
    "name": "ipython",
    "version": 3
   },
   "file_extension": ".py",
   "mimetype": "text/x-python",
   "name": "python",
   "nbconvert_exporter": "python",
   "pygments_lexer": "ipython3",
   "version": "3.6.6"
  }
 },
 "nbformat": 4,
 "nbformat_minor": 2
}
