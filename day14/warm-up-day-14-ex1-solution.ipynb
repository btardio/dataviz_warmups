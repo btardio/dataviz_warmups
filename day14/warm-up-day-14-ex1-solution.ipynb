{
 "cells": [
  {
   "cell_type": "code",
   "execution_count": 1,
   "metadata": {},
   "outputs": [],
   "source": [
    "import requests\n",
    "\n",
    "\n"
   ]
  },
  {
   "cell_type": "code",
   "execution_count": 6,
   "metadata": {},
   "outputs": [
    {
     "name": "stdout",
     "output_type": "stream",
     "text": [
      "In just 24 sessions of one hour or less, Sams Teach Yourself Python in 24 Hours will help you get started fast, master all the core concepts of programming, and build anything from websites to games. Using this book’s straightforward, step-by-step approach, you’ll move from the absolute basics through functions,\n",
      "\n",
      "Sample programs and exercizes introduce the programmer to the programming language's arrays, pointers, data types, loops, strings, and structures, while demonstrating memory management techniques\n",
      "\n",
      "Apache Hadoop is the technology at the heart of the Big Data revolution, and Hadoop skills are in enormous demand. Now, in just 24 lessons of one hour or less, you can learn all the skills and techniques you'll need to deploy each key component of a Hadoop platform in\n",
      "\n",
      "Apache Spark is a fast, scalable, and flexible open source distributed processing engine for big data systems and is one of the most active open source big data projects to date. In just 24 lessons of one hour or less, Sams Teach Yourself Apache Spark in 24 Hours helps you\n",
      "\n",
      "Offers step-by-step instructions for using iOS to build applications for iPhone and iPad.\n",
      "\n"
     ]
    }
   ],
   "source": [
    "isbns = ['0133354466', '067231861X', '0134456726', '0134445821', '0672337061']\n",
    "\n",
    "url = 'https://www.googleapis.com/books/v1/volumes?q=isbn:'\n",
    "\n",
    "def printfirst50(astr):\n",
    "    # split the original string by spaces, \n",
    "    # take the first 50 items of the list, \n",
    "    # then join/rejoin the list using spaces. \n",
    "    print(' '.join((astr).split(' ')[:50]))\n",
    "    print()\n",
    "    \n",
    "def printall(astr):\n",
    "    print(astr)\n",
    "    print()\n",
    "    \n",
    "for i in range(0,len(isbns)):\n",
    "    response = requests.get(url + isbns[i])\n",
    "    # get the description string from the response json\n",
    "    rdesc = response.json()['items'][0]['volumeInfo']['description']\n",
    "\n",
    "    #printall(rdesc)\n",
    "    printfirst50(rdesc)\n",
    "\n"
   ]
  },
  {
   "cell_type": "code",
   "execution_count": null,
   "metadata": {},
   "outputs": [],
   "source": []
  }
 ],
 "metadata": {
  "kernelspec": {
   "display_name": "Python 3",
   "language": "python",
   "name": "python3"
  },
  "language_info": {
   "codemirror_mode": {
    "name": "ipython",
    "version": 3
   },
   "file_extension": ".py",
   "mimetype": "text/x-python",
   "name": "python",
   "nbconvert_exporter": "python",
   "pygments_lexer": "ipython3",
   "version": "3.6.6"
  }
 },
 "nbformat": 4,
 "nbformat_minor": 2
}
