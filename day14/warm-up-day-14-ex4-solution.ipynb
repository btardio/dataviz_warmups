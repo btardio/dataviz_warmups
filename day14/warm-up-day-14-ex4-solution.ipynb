{
 "cells": [
  {
   "cell_type": "code",
   "execution_count": 27,
   "metadata": {},
   "outputs": [
    {
     "name": "stdout",
     "output_type": "stream",
     "text": [
      "\n",
      "    41 73 C5 5A 1C 3B 0C 36 AC C9 49 89 9B B8 67 C6\n",
      "    5F B2 1B 1A 12 E6 17 3D 05 A9 F6 84 51 FC 98 A7\n",
      "    71 FE 83 7A F8 C2 04 CE 9C 39 97 A0 2D FA 2E E5\n",
      "    12 BF 79 DA 5F 0B EE E2 97 66 D5 21 16 A9 1E 7E\n",
      "    ED A7 AA 9B 0A C1 FB FD 39 2E DC 45 5B BA DB 54\n",
      "    30 58 8C 10 BF B5 EB B8 4C 5A C9 0A 83 8B 0B A0\n",
      "    98 91 5B C9 5D 7D E3 60 D9 70 D4 4D 30 D4 9F 78\n",
      "    CF 9F 77 FA 87 9F EF 99 55 32 C7 A2 BD 42 6F B3\n",
      "\n",
      "3\n"
     ]
    }
   ],
   "source": [
    "import requests\n",
    "import xml.etree.ElementTree as ET\n",
    "\n",
    "# create the url for the request\n",
    "url = 'https://www.fourmilab.ch/cgi-bin/Hotbits.api?nbytes=128&fmt=xml&apikey=&pseudo=pseudo'\n",
    "\n",
    "# make the get request\n",
    "resp = requests.get(url)\n",
    "\n",
    "# create a root element from the xml string\n",
    "root = ET.fromstring(resp.text)\n",
    "\n",
    "# find the element that has the tag 'random-data'\n",
    "randomelem = root.find('random-data') \n",
    "\n",
    "# print the text of the element\n",
    "print(randomelem.text)\n",
    "\n",
    "# create a random number from 0 to 9\n",
    "print(int(randomelem.text.replace(' ','').replace('\\n',''),16) % 10)\n"
   ]
  },
  {
   "cell_type": "code",
   "execution_count": null,
   "metadata": {},
   "outputs": [],
   "source": []
  }
 ],
 "metadata": {
  "kernelspec": {
   "display_name": "Python 3",
   "language": "python",
   "name": "python3"
  },
  "language_info": {
   "codemirror_mode": {
    "name": "ipython",
    "version": 3
   },
   "file_extension": ".py",
   "mimetype": "text/x-python",
   "name": "python",
   "nbconvert_exporter": "python",
   "pygments_lexer": "ipython3",
   "version": "3.6.6"
  }
 },
 "nbformat": 4,
 "nbformat_minor": 2
}
