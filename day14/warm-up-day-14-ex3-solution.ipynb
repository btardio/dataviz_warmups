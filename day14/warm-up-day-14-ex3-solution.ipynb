{
 "cells": [
  {
   "cell_type": "code",
   "execution_count": 1,
   "metadata": {},
   "outputs": [
    {
     "name": "stdout",
     "output_type": "stream",
     "text": [
      "0.9690289497375488\n"
     ]
    }
   ],
   "source": [
    "import time\n",
    "\n",
    "import requests\n",
    "\n",
    "# parameters for the url\n",
    "query = '%28%29' # query\n",
    "p = 0 # page\n",
    "\n",
    "# calculate the time before the request was made\n",
    "start = time.time()\n",
    "\n",
    "# create the url for the request\n",
    "url = 'https://searchcode.com/api/codesearch_I/?q=%s&p=%s' % (query, p)\n",
    "\n",
    "# make the get request\n",
    "resp = requests.get(url)\n",
    "\n",
    "# calculate the time after the request was made\n",
    "stop = time.time()\n",
    "\n",
    "# print the results, the difference of the two times\n",
    "print(stop-start)\n",
    "\n"
   ]
  }
 ],
 "metadata": {
  "kernelspec": {
   "display_name": "Python 3",
   "language": "python",
   "name": "python3"
  },
  "language_info": {
   "codemirror_mode": {
    "name": "ipython",
    "version": 3
   },
   "file_extension": ".py",
   "mimetype": "text/x-python",
   "name": "python",
   "nbconvert_exporter": "python",
   "pygments_lexer": "ipython3",
   "version": "3.6.6"
  }
 },
 "nbformat": 4,
 "nbformat_minor": 2
}
