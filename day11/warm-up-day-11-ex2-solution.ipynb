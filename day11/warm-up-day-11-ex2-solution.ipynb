{
 "cells": [
  {
   "cell_type": "code",
   "execution_count": 44,
   "metadata": {},
   "outputs": [
    {
     "data": {
      "image/png": "[encoded data removed]",
      "text/plain": [
       "<Figure size 432x288 with 1 Axes>"
      ]
     },
     "metadata": {
      "needs_background": "light"
     },
     "output_type": "display_data"
    }
   ],
   "source": [
    "%matplotlib inline\n",
    "\n",
    "from matplotlib import pyplot as plt\n",
    "import numpy as np\n",
    "\n",
    "data = {\n",
    "    'A': [10,20,15],\n",
    "    'B': [14,12,11],\n",
    "    'C': [5,24,9]\n",
    "}\n",
    "\n",
    "# create the x axis\n",
    "xaxis = [str(x) for x in range(1, len(data['A'])+1 )]\n",
    "\n",
    "# create plot 1\n",
    "p1 = plt.bar(xaxis, data['A'])\n",
    "\n",
    "# create plot 2 using plot 1 data as the bars bases\n",
    "p2 = plt.bar(xaxis, data['B'], bottom=data['A'])\n",
    "\n",
    "# sum A and B to create a bar base for C\n",
    "data['AB'] = [ a + b for a,b in zip(data['A'], data['B']) ]\n",
    "\n",
    "# create plot 3 using data['AB'] as the base\n",
    "p3 = plt.bar(xaxis, data['C'], bottom=data['AB'])\n",
    "\n",
    "plt.xlabel('X Axis Label')\n",
    "plt.ylabel('Y Axis Label')\n",
    "\n",
    "plt.show()\n"
   ]
  },
  {
   "cell_type": "code",
   "execution_count": null,
   "metadata": {},
   "outputs": [],
   "source": []
  }
 ],
 "metadata": {
  "kernelspec": {
   "display_name": "Python 3",
   "language": "python",
   "name": "python3"
  },
  "language_info": {
   "codemirror_mode": {
    "name": "ipython",
    "version": 3
   },
   "file_extension": ".py",
   "mimetype": "text/x-python",
   "name": "python",
   "nbconvert_exporter": "python",
   "pygments_lexer": "ipython3",
   "version": "3.6.6"
  }
 },
 "nbformat": 4,
 "nbformat_minor": 2
}
