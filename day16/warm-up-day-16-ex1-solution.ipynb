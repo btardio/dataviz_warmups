{
 "cells": [
  {
   "cell_type": "code",
   "execution_count": 1,
   "metadata": {},
   "outputs": [],
   "source": [
    "import unittest\n",
    "\n",
    "class TestBasicMath(unittest.TestCase):\n",
    "\n",
    "    def testmul(self): self.assertEqual(2 * 5, 10)\n",
    "    def testadd(self): self.assertTrue(2 + 10 == 12)\n",
    "    def testdiv(self): self.assertTrue(10 / 2 == 5)\n",
    "    def testsub(self): self.assertEqual(10 - 2, 8)\n",
    "        \n",
    "def createSuite( testadd = True, testsub = True, testmul = True, testdiv = True ):\n",
    "    suite = unittest.TestSuite()\n",
    "    if testadd: suite.addTest(TestBasicMath('testadd'))\n",
    "    if testsub: suite.addTest(TestBasicMath('testsub'))\n",
    "    if testmul: suite.addTest(TestBasicMath('testmul'))\n",
    "    if testdiv: suite.addTest(TestBasicMath('testdiv'))\n",
    "    return suite\n",
    "\n",
    "runner = unittest.TextTestRunner()"
   ]
  },
  {
   "cell_type": "code",
   "execution_count": 2,
   "metadata": {},
   "outputs": [],
   "source": [
    "d = { \n",
    "      'testadd': False,\n",
    "      'testdiv': False\n",
    "    }\n",
    "\n",
    "l = [ True, False, False, True ]"
   ]
  },
  {
   "cell_type": "code",
   "execution_count": 3,
   "metadata": {},
   "outputs": [
    {
     "name": "stderr",
     "output_type": "stream",
     "text": [
      "..\n",
      "----------------------------------------------------------------------\n",
      "Ran 2 tests in 0.003s\n",
      "\n",
      "OK\n"
     ]
    },
    {
     "data": {
      "text/plain": [
       "<unittest.runner.TextTestResult run=2 errors=0 failures=0>"
      ]
     },
     "execution_count": 3,
     "metadata": {},
     "output_type": "execute_result"
    }
   ],
   "source": [
    "s0 = createSuite(*l)\n",
    "\n",
    "runner.run(s0)\n",
    "    "
   ]
  },
  {
   "cell_type": "code",
   "execution_count": 4,
   "metadata": {},
   "outputs": [
    {
     "name": "stderr",
     "output_type": "stream",
     "text": [
      "..\n",
      "----------------------------------------------------------------------\n",
      "Ran 2 tests in 0.002s\n",
      "\n",
      "OK\n"
     ]
    },
    {
     "data": {
      "text/plain": [
       "<unittest.runner.TextTestResult run=2 errors=0 failures=0>"
      ]
     },
     "execution_count": 4,
     "metadata": {},
     "output_type": "execute_result"
    }
   ],
   "source": [
    "s1 = createSuite(**d)\n",
    "\n",
    "runner.run(s1)\n",
    "    "
   ]
  }
 ],
 "metadata": {
  "kernelspec": {
   "display_name": "Python 3",
   "language": "python",
   "name": "python3"
  },
  "language_info": {
   "codemirror_mode": {
    "name": "ipython",
    "version": 3
   },
   "file_extension": ".py",
   "mimetype": "text/x-python",
   "name": "python",
   "nbconvert_exporter": "python",
   "pygments_lexer": "ipython3",
   "version": "3.6.6"
  }
 },
 "nbformat": 4,
 "nbformat_minor": 2
}
