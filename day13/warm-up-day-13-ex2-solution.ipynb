{
 "cells": [
  {
   "cell_type": "code",
   "execution_count": 122,
   "metadata": {},
   "outputs": [
    {
     "data": {
      "image/png": "[encoded data removed]",
      "text/plain": [
       "<Figure size 432x288 with 3 Axes>"
      ]
     },
     "metadata": {
      "needs_background": "light"
     },
     "output_type": "display_data"
    }
   ],
   "source": [
    "%matplotlib inline\n",
    "\n",
    "import numpy as np\n",
    "import pandas as pd\n",
    "from matplotlib import pyplot as plt\n",
    "from scipy.stats import sem\n",
    "\n",
    "data = {'group1': [ {'round': 1, \n",
    "                     'responses': [97,74,22]},\n",
    "                    {'round': 2,\n",
    "                     'responses': [76, 59, 50]},\n",
    "                    {'round': 3,\n",
    "                     'responses': [62, 61, 59]}\n",
    "                  ],\n",
    "        'group2': [ {'round': 1, \n",
    "                     'responses': [78,51,12]},\n",
    "                    {'round': 2,\n",
    "                     'responses': [65, 49, 35]},\n",
    "                    {'round': 3,\n",
    "                     'responses': [60, 61, 57]}\n",
    "                  ],\n",
    "        'group3': [ {'round': 1, \n",
    "                     'responses': [83,21,92]},\n",
    "                    {'round': 2,\n",
    "                     'responses': [62, 46, 33]},\n",
    "                    {'round': 3,\n",
    "                     'responses': [59, 63, 60]}\n",
    "                  ],\n",
    "       }\n",
    "\n",
    "# in the event that the lists are unsorted, sort them first\n",
    "data['group1'] = sorted(data['group1'], key=lambda d: d['round'])\n",
    "data['group2'] = sorted(data['group2'], key=lambda d: d['round'])\n",
    "data['group3'] = sorted(data['group3'], key=lambda d: d['round'])\n",
    "\n",
    "# prepare a questions list which will have 3 lists for our dataset\n",
    "questions = []\n",
    "\n",
    "# append blank lists of len equal to the number of questions\n",
    "[ questions.append([]) for i in range(0,len(data['group1'][0]['responses'])) ]\n",
    "\n",
    "# make an xaxis of range 0 to len(questions)\n",
    "xaxis = np.arange(0, len(questions))\n",
    "\n",
    "# go through each question list and append another list for each round\n",
    "for qi in range(0,len(questions)):\n",
    "    [questions[i].append([]) for i in range(0,len(data['group1']))]\n",
    "\n",
    "# iterate the dataset, starting with groups\n",
    "for group in data.values():\n",
    "    \n",
    "    # iterate the rounds in each group\n",
    "    for i, qround in enumerate(group):\n",
    "        \n",
    "        # iterate the responses to each question, appending the responses \n",
    "        # to the appropriate position in questions\n",
    "        for qi in range(0,len(questions)):\n",
    "            questions[qi][i].append(qround['responses'][qi])\n",
    "        \n",
    "\n",
    "questionsstandarderrors = []\n",
    "questionsmeans = []\n",
    "\n",
    "# iterate the questions and create an sem and mean list for each\n",
    "for qi in range(0,len(questions)):\n",
    "    questionsstandarderrors.append([])\n",
    "    questionsmeans.append([])\n",
    "    questionsstandarderrors[qi] = [sem(r) for r in questions[qi]]\n",
    "    questionsmeans[qi] = [np.mean(i) for i in questions[qi]]\n",
    "\n",
    "axes = []\n",
    "\n",
    "# plot the error bar in three separate graphs\n",
    "for qi in range(0,len(questions)):\n",
    "    axes.append([])\n",
    "    axes[qi] = plt.subplot( np.ceil(len(questions) / 2),2,qi+1)\n",
    "    axes[qi].errorbar(xaxis, questionsmeans[qi], questionsstandarderrors[qi], fmt=\"o\")\n",
    "\n",
    "\n",
    "plt.show()\n"
   ]
  },
  {
   "cell_type": "code",
   "execution_count": null,
   "metadata": {},
   "outputs": [],
   "source": []
  }
 ],
 "metadata": {
  "kernelspec": {
   "display_name": "Python 3",
   "language": "python",
   "name": "python3"
  },
  "language_info": {
   "codemirror_mode": {
    "name": "ipython",
    "version": 3
   },
   "file_extension": ".py",
   "mimetype": "text/x-python",
   "name": "python",
   "nbconvert_exporter": "python",
   "pygments_lexer": "ipython3",
   "version": "3.6.6"
  }
 },
 "nbformat": 4,
 "nbformat_minor": 2
}
