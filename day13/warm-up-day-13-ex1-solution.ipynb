{
 "cells": [
  {
   "cell_type": "code",
   "execution_count": 46,
   "metadata": {},
   "outputs": [
    {
     "data": {
      "image/png": "[encoded data removed]",
      "text/plain": [
       "<Figure size 432x288 with 1 Axes>"
      ]
     },
     "metadata": {
      "needs_background": "light"
     },
     "output_type": "display_data"
    }
   ],
   "source": [
    "%matplotlib inline\n",
    "\n",
    "import numpy as np\n",
    "import pandas as pd\n",
    "from matplotlib import pyplot as plt\n",
    "\n",
    "d = [-17,1,2,4,15,2,32,65,66,67,85,86,88,69,138]\n",
    "\n",
    "d.sort()\n",
    "\n",
    "outliers = []\n",
    "outlierindices = []\n",
    "\n",
    "for i,y in enumerate(d):\n",
    "    \n",
    "    if i == 0:\n",
    "        if abs( d[0] - d[1] ) >= 15:\n",
    "            outliers.append(d[i])\n",
    "            outlierindices.append(i)\n",
    "    elif i == len(d) - 1:\n",
    "        if abs( d[i] - d[len(d)-2] ) >= 15:\n",
    "            outliers.append(d[i])\n",
    "            outlierindices.append(i)\n",
    "    else:\n",
    "        if abs( d[i] - d[i-1] ) >= 15 and abs( d[i+1] - d[i] ) >= 15:\n",
    "            outliers.append(d[i])\n",
    "            outlierindices.append(i)\n",
    "\n",
    "xaxis = np.arange(len(d))\n",
    "\n",
    "color = np.full(len(d), 'g')\n",
    "\n",
    "for i in outlierindices:\n",
    "    color[i] = 'r'\n",
    "    \n",
    "df = pd.DataFrame({'x': xaxis, 'y': d, 'c': color})\n",
    "\n",
    "p = df.plot(x='x', y='y', kind='scatter', c=df['c'])\n",
    "\n",
    "plt.show()\n",
    "\n",
    "\n"
   ]
  },
  {
   "cell_type": "code",
   "execution_count": null,
   "metadata": {},
   "outputs": [],
   "source": []
  }
 ],
 "metadata": {
  "kernelspec": {
   "display_name": "Python 3",
   "language": "python",
   "name": "python3"
  },
  "language_info": {
   "codemirror_mode": {
    "name": "ipython",
    "version": 3
   },
   "file_extension": ".py",
   "mimetype": "text/x-python",
   "name": "python",
   "nbconvert_exporter": "python",
   "pygments_lexer": "ipython3",
   "version": "3.6.6"
  }
 },
 "nbformat": 4,
 "nbformat_minor": 2
}
